{
 "cells": [
  {
   "cell_type": "code",
   "execution_count": 19,
   "metadata": {},
   "outputs": [
    {
     "data": {
      "text/html": [
       "-5"
      ],
      "text/latex": [
       "-5"
      ],
      "text/markdown": [
       "-5"
      ],
      "text/plain": [
       "[1] -5"
      ]
     },
     "metadata": {},
     "output_type": "display_data"
    },
    {
     "data": {
      "text/html": [
       "37"
      ],
      "text/latex": [
       "37"
      ],
      "text/markdown": [
       "37"
      ],
      "text/plain": [
       "[1] 37"
      ]
     },
     "metadata": {},
     "output_type": "display_data"
    },
    {
     "name": "stdout",
     "output_type": "stream",
     "text": [
      "\n",
      "  The decimal point is 1 digit(s) to the right of the |\n",
      "\n",
      "  49 | 8\n",
      "  50 | \n",
      "  51 | \n",
      "  52 | \n",
      "  53 | \n",
      "  54 | \n",
      "  55 | 88\n",
      "  56 | 2\n",
      "  57 | \n",
      "  58 | \n",
      "  59 | \n",
      "  60 | \n",
      "  61 | \n",
      "  62 | \n",
      "  63 | \n",
      "  64 | \n",
      "  65 | 35\n",
      "  66 | 1\n",
      "  67 | \n",
      "  68 | \n",
      "  69 | 3\n",
      "  70 | 48\n",
      "  71 | \n",
      "  72 | \n",
      "  73 | 0\n",
      "  74 | \n",
      "  75 | 3\n",
      "  76 | 88\n",
      "  77 | 55\n",
      "  78 | \n",
      "  79 | \n",
      "  80 | 69\n",
      "  81 | \n",
      "  82 | 0\n",
      "  83 | 5\n",
      "  84 | \n",
      "  85 | 6\n",
      "  86 | 9\n",
      "  87 | 008\n",
      "  88 | \n",
      "  89 | 8\n",
      "  90 | 59\n",
      "  91 | 888\n",
      "  92 | \n",
      "  93 | 9\n",
      "  94 | 06\n",
      "  95 | 57\n",
      "  96 | 0\n",
      "\n"
     ]
    },
    {
     "data": {
      "image/png": "[encoded data removed]",
      "text/plain": [
       "Plot with title \"Histogram of data\""
      ]
     },
     "metadata": {},
     "output_type": "display_data"
    }
   ],
   "source": [
    "1-6\n",
    "#Los datos siguientes son mediciones de intensidad solar directa (en watts/m2) realizadas en distintos días en una\n",
    "#localidad al sur de España. Construya un histograma para estos datos.\n",
    "\n",
    "#Vector que almacena los valores a analizar.\n",
    "data=c(498,558,558,562,653,655,661,693,704,708,730,753,768,768,775,775,806,809,820,835,856,869,870,870,878,898,905,909,918,918,918,939,940,946,955,957,960) \n",
    "#Número de valores \n",
    "length(data)\n",
    "#Diagrama de tallo y hoja\n",
    "stem(data,scale=5,width=100)\n",
    "#Histograma\n",
    "hist(data)                 "
   ]
  },
  {
   "cell_type": "code",
   "execution_count": 2,
   "metadata": {},
   "outputs": [
    {
     "name": "stdout",
     "output_type": "stream",
     "text": [
      "\n",
      "  The decimal point is at the |\n",
      "\n",
      "   82 | 4\n",
      "   84 | 33\n",
      "   86 | 7756789\n",
      "   88 | 23334556679233689\n",
      "   90 | 1144456780011122568\n",
      "   92 | 223677702347\n",
      "   94 | 224\n",
      "   96 | 154\n",
      "   98 | 8\n",
      "  100 | 3\n",
      "\n"
     ]
    }
   ],
   "source": [
    "#1-7\n",
    "#Un artículo publicado en TEchnometrics presenta los datos siguientes sobre el octanaje de varias mezclas de gasolina.\n",
    "#Construya un diagrama de tallo y hoja\n",
    "datos17=c(83.4,84.3,85.3,86.7,86.7,87.5,87.6,87.7,87.8,87.9,88.2,88.3,88.3,88.3,88.4,88.5,88.5,88.6,88.6,88.7,88.9,89.2,89.3,89.3,89.6,89.8,89.9,90.1,90.1,90.4,90.4,90.4,90.5,90.6,90.7,90.8,91,91,91.1,91.1,91.1,91.2,91.2,91.5,91.6,91.8,92.2,92.2,92.3,92.6,92.7,92.7,92.7,93,93.2,93.3,93.4,93.7,94.2,94.2,94.4,96.1,96.5,97.4,98.8,100.3)\n",
    "stem(datos17,scale=1,width=50)"
   ]
  },
  {
   "cell_type": "code",
   "execution_count": 3,
   "metadata": {},
   "outputs": [
    {
     "data": {
      "text/html": [
       "64"
      ],
      "text/latex": [
       "64"
      ],
      "text/markdown": [
       "64"
      ],
      "text/plain": [
       "[1] 64"
      ]
     },
     "metadata": {},
     "output_type": "display_data"
    },
    {
     "name": "stdout",
     "output_type": "stream",
     "text": [
      "\n",
      "  The decimal point is at the |\n",
      "\n",
      "  32 | 1\n",
      "  32 | 56789\n",
      "  33 | 114\n",
      "  33 | 56666688\n",
      "  34 | 01112234\n",
      "  34 | 55666667777779\n",
      "  35 | 00111234\n",
      "  35 | 56789\n",
      "  36 | 234\n",
      "  36 | 6888\n",
      "  37 | 13\n",
      "  37 | 689\n",
      "\n"
     ]
    }
   ],
   "source": [
    "#1-9\n",
    "#La siguiente tabla presenta el porcentaje de algodón en un material utilizado para la fabriación de camisas para caballeros. \n",
    "#Construya un diagrama de tallo y hoja para estos datos\n",
    "datos19=c(34.2,33.6,33.8,34.7,37.8,32.6,35.8,34.6,33.1,34.7,34.2,33.6,36.6,33.1,37.6,33.6,34.5,35.0,33.4,32.5,34.4,34.6,37.3,34.1,35.6,35.4,34.7,34.1,34.6,35.9,34.6,34.7,36.3,36.2,34.6,35.1,33.8,34.7,35.5,35.7,35.1,36.8,35.2,36.8,37.1,33.6,32.8,36.8,34.7,35.1,35.0,37.9,34.0,32.9,32.1,34.3,33.6,35.3,34.9,36.4,34.1,33.5,34.5,32.7)\n",
    "length(datos19)\n",
    "stem(datos19,scale=2,width=50)"
   ]
  },
  {
   "cell_type": "code",
   "execution_count": 4,
   "metadata": {},
   "outputs": [
    {
     "data": {
      "text/html": [
       "90"
      ],
      "text/latex": [
       "90"
      ],
      "text/markdown": [
       "90"
      ],
      "text/plain": [
       "[1] 90"
      ]
     },
     "metadata": {},
     "output_type": "display_data"
    },
    {
     "name": "stdout",
     "output_type": "stream",
     "text": [
      "\n",
      "  The decimal point is at the |\n",
      "\n",
      "  78 | 3\n",
      "  79 | \n",
      "  80 | \n",
      "  81 | \n",
      "  82 | 69\n",
      "  83 | 0167\n",
      "  84 | 01112569\n",
      "  85 | 011144\n",
      "  86 | 1114444667\n",
      "  87 | 3335667\n",
      "  88 | 22368\n",
      "  89 | 114667\n",
      "  90 | 0011345666\n",
      "  91 | 1247\n",
      "  92 | 144\n",
      "  93 | 11227\n",
      "  94 | 11133467\n",
      "  95 | 1236\n",
      "  96 | 1348\n",
      "  97 | 38\n",
      "  98 | 0\n",
      "\n"
     ]
    }
   ],
   "source": [
    "#1-10\n",
    "#Los datos siguientes representan el rendimiento de 90 lotes consecutivos de un sustrato cerámico, en el que se ha \n",
    "#aplicado un recubrimiento metálico mediante un proceso de depositación por vapor. \n",
    "#Construya un diagrama de tallo y hoja en pantalla para estos datos.\n",
    "datos110 = c(94.1,87.3,94.1,92.4,84.6,85.4,93.2,84.1,92.1,90.6,83.6,86.6,90.6,90.1,96.4,89.1,85.4,91.7,91.4,95.2,88.2,88.8,89.7,87.5,88.2,86.1,86.4,86.4,87.6,84.2,86.1,94.3,85.0,85.1,85.1,85.1,95.1,93.2,84.9,84.0,89.6,90.5,90.0,86.7,78.3,93.7,90.0,95.6,92.4,83.0,89.6,87.7,90.1,88.3,87.3,95.3,90.3,90.6,94.3,84.1,86.6,94.1,93.1,89.4,97.3,83.7,91.2,97.8,94.6,88.6,96.8,82.9,86.1,93.1,96.3,84.1,94.4,87.3,90.4,86.4,94.7,82.6,96.1,86.4,89.1,87.6,91.1,83.1,98.0,84.5)\n",
    "length(datos110)\n",
    "stem(datos110,scale=3,width=50)"
   ]
  },
  {
   "cell_type": "code",
   "execution_count": 6,
   "metadata": {},
   "outputs": [
    {
     "data": {
      "text/plain": [
       "datos17.cut\n",
       "[80.4,83.4) [83.4,86.4) [86.4,89.4) [89.4,92.4) [92.4,95.4) [95.4,98.4) \n",
       "          0           3          21          25          12           3 \n",
       " [98.4,101)   [101,104) \n",
       "          2           0 "
      ]
     },
     "metadata": {},
     "output_type": "display_data"
    },
    {
     "data": {
      "image/png": "[encoded data removed]",
      "text/plain": [
       "Plot with title \"Histograma con ocho clases\""
      ]
     },
     "metadata": {},
     "output_type": "display_data"
    }
   ],
   "source": [
    "#1-11\n",
    "#Construya una distribución de frecuencias y un histograma para los datos \n",
    "#de octanaje del ejercicio 1-7. Utilice ocho clases. \n",
    "\n",
    "#Rango de datos.\n",
    "rango = max(datos17) - min(datos17)\n",
    "\n",
    "#Longitud de nuestros intervalos. \n",
    "lint = ceiling(rango/8)\n",
    "\n",
    "#Intervalos.\n",
    "intclases = seq( min(datos17)-lint, max(datos17)+2*lint, by=lint ) \n",
    "\n",
    "#Espaciamos los intervalos.\n",
    "datos17.cut = cut( datos17, intclases, right=FALSE ) \n",
    "\n",
    "#Tabla de distribución de frec.\n",
    "datos17.freq = table( datos17.cut ) \n",
    "datos17.freq\n",
    "barplot(datos17.freq,\n",
    "       main = \"Histograma con ocho clases\",\n",
    "       ylab = \"Frecuencia\",\n",
    "       names.arg = c(names(datos17.freq)),\n",
    "       col = \"red\",\n",
    "       las = 2)    #Histograma."
   ]
  },
  {
   "cell_type": "code",
   "execution_count": 8,
   "metadata": {},
   "outputs": [
    {
     "data": {
      "text/plain": [
       "datos19.cut\n",
       "[31.1,32.1) [32.1,33.1) [33.1,34.1) [34.1,35.1) [35.1,36.1) [36.1,37.1) \n",
       "          0           6          12          23          11           7 \n",
       "[37.1,38.1) [38.1,39.1) \n",
       "          5           0 "
      ]
     },
     "metadata": {},
     "output_type": "display_data"
    },
    {
     "data": {
      "image/png": "[encoded data removed]",
      "text/plain": [
       "Plot with title \"Histograma con ocho clases\""
      ]
     },
     "metadata": {},
     "output_type": "display_data"
    }
   ],
   "source": [
    "#1-13\n",
    "#Construya una distribución de frecuencias y un histograma para los datos \n",
    "#de octanaje del ejercicio 1-9.\n",
    "\n",
    "#Rango de datos.\n",
    "rango = max( datos19 ) - min( datos19 )\n",
    "\n",
    "#Longitud de nuestros intervalos. \n",
    "lint = ceiling( rango/8 )\n",
    "\n",
    "#Intervalos.\n",
    "intclases = seq( min(datos19)-lint, max(datos19)+2*lint, by=lint )\n",
    "\n",
    "#Espaciamos los intervalos.\n",
    "datos19.cut = cut(datos19,intclases,right=FALSE)\n",
    "\n",
    "#Tabla de distribución de frec.\n",
    "datos19.freq = table( datos19.cut ) \n",
    "datos19.freq\n",
    "barplot(datos17.freq,\n",
    "       main = \"Histograma con ocho clases\",\n",
    "       ylab = \"Frecuencia\",\n",
    "       names.arg = c( names(datos19.freq) ),\n",
    "       col = \"cornflowerblue\",\n",
    "       las = 2)    #Histograma."
   ]
  },
  {
   "cell_type": "code",
   "execution_count": 9,
   "metadata": {},
   "outputs": [
    {
     "data": {
      "text/plain": [
       "datos110.cut\n",
       "[75.3,78.3) [78.3,81.3) [81.3,84.3) [84.3,87.3) [87.3,90.3) [90.3,93.3) \n",
       "          0           1          11          19          22          17 \n",
       "[93.3,96.3) [96.3,99.3)  [99.3,102) \n",
       "         14           6           0 "
      ]
     },
     "metadata": {},
     "output_type": "display_data"
    },
    {
     "data": {
      "image/png": "[encoded data removed]",
      "text/plain": [
       "Plot with title \"Histograma con ocho clases\""
      ]
     },
     "metadata": {},
     "output_type": "display_data"
    }
   ],
   "source": [
    "#1-14\n",
    "#Construya una distribución de frecuencias y un histograma para los datos \n",
    "#de octanaje del ejercicio 1-10. \n",
    "\n",
    "#Rango de datos.\n",
    "rango = max( datos110 ) - min( datos110 )\n",
    "\n",
    "#Longitud de nuestros intervalos. \n",
    "lint = ceiling( rango/8 )\n",
    "\n",
    "#Intervalos.\n",
    "intclases = seq( min(datos110)-lint, max(datos110)+2*lint, by=lint )\n",
    "\n",
    "#Espaciamos los intervalos.\n",
    "datos110.cut = cut( datos110, intclases, right=FALSE )\n",
    "\n",
    "#Tabla de distribución de frec.\n",
    "datos110.freq = table(datos110.cut) \n",
    "datos110.freq\n",
    "barplot(datos110.freq,\n",
    "       main = \"Histograma con ocho clases\",\n",
    "       ylab = \"Frecuencia\",\n",
    "       names.arg = c(names(datos110.freq)),\n",
    "       col = \"darkorchid\",\n",
    "       las = 2)    #Histograma."
   ]
  },
  {
   "cell_type": "code",
   "execution_count": 10,
   "metadata": {},
   "outputs": [
    {
     "data": {
      "text/plain": [
       "datos17.cut\n",
       "(83.4,84.4] (84.4,85.4] (85.4,86.4] (86.4,87.4] (87.4,88.4] (88.4,89.4] \n",
       "          1           1           0           2          10           9 \n",
       "(89.4,90.4] (90.4,91.4] (91.4,92.4] (92.4,93.4] (93.4,94.4] (94.4,95.4] \n",
       "          8          11           6           8           4           0 \n",
       "(95.4,96.4] (96.4,97.4] (97.4,98.4] (98.4,99.4] \n",
       "          1           2           0           1 "
      ]
     },
     "metadata": {},
     "output_type": "display_data"
    },
    {
     "data": {
      "image/png": "[encoded data removed]",
      "text/plain": [
       "Plot with title \"Histograma con dieciséis clases\""
      ]
     },
     "metadata": {},
     "output_type": "display_data"
    }
   ],
   "source": [
    "#1-15\n",
    "#Construya una distribución de frecuencias y un histograma con 16 clases para los datos de octanaje del ejercicio 1-7.\n",
    "#Compare la forma del histograma con la que tiene el ejercicio 1-11, donde se emplean ocho clases. ¿Los dos histogramas\n",
    "#presentan información similar?\n",
    "\n",
    "#Rango de datos.\n",
    "rango = max(datos17) - min(datos17)\n",
    "\n",
    "#Longitud de nuestros intervalos.    \n",
    "lint = round(rango/16)     \n",
    "\n",
    "#Intervalos.\n",
    "intclases = seq(min(datos17),max(datos17),by=lint)\n",
    "\n",
    "#Espaciamos los intervalos.\n",
    "datos17.cut = cut(datos17,intclases,right=TRUE)\n",
    "\n",
    "#Tabla de distribución de frecuencia\n",
    "datos17.freq = table(datos17.cut) \n",
    "datos17.freq\n",
    "barplot(datos17.freq,\n",
    "       main = \"Histograma con dieciséis clases\",\n",
    "       ylab = \"Frecuencia\",\n",
    "       names.arg = c(names(datos17.freq)),\n",
    "       col = \"gold\",\n",
    "       las = 2)    #Histograma."
   ]
  },
  {
   "cell_type": "code",
   "execution_count": 11,
   "metadata": {},
   "outputs": [
    {
     "data": {
      "text/html": [
       "65.8285714285714"
      ],
      "text/latex": [
       "65.8285714285714"
      ],
      "text/markdown": [
       "65.8285714285714"
      ],
      "text/plain": [
       "[1] 65.82857"
      ]
     },
     "metadata": {},
     "output_type": "display_data"
    },
    {
     "data": {
      "text/html": [
       "68"
      ],
      "text/latex": [
       "68"
      ],
      "text/markdown": [
       "68"
      ],
      "text/plain": [
       "[1] 68"
      ]
     },
     "metadata": {},
     "output_type": "display_data"
    },
    {
     "data": {
      "text/html": [
       "<dl class=dl-horizontal>\n",
       "\t<dt>0%</dt>\n",
       "\t\t<dd>31</dd>\n",
       "\t<dt>25%</dt>\n",
       "\t\t<dd>59</dd>\n",
       "\t<dt>50%</dt>\n",
       "\t\t<dd>68</dd>\n",
       "\t<dt>75%</dt>\n",
       "\t\t<dd>75</dd>\n",
       "\t<dt>100%</dt>\n",
       "\t\t<dd>84</dd>\n",
       "</dl>\n"
      ],
      "text/latex": [
       "\\begin{description*}\n",
       "\\item[0\\textbackslash{}\\%] 31\n",
       "\\item[25\\textbackslash{}\\%] 59\n",
       "\\item[50\\textbackslash{}\\%] 68\n",
       "\\item[75\\textbackslash{}\\%] 75\n",
       "\\item[100\\textbackslash{}\\%] 84\n",
       "\\end{description*}\n"
      ],
      "text/markdown": [
       "0%\n",
       ":   3125%\n",
       ":   5950%\n",
       ":   6875%\n",
       ":   75100%\n",
       ":   84\n",
       "\n"
      ],
      "text/plain": [
       "  0%  25%  50%  75% 100% \n",
       "  31   59   68   75   84 "
      ]
     },
     "metadata": {},
     "output_type": "display_data"
    },
    {
     "data": {
      "text/html": [
       "<dl class=dl-horizontal>\n",
       "\t<dt>5%</dt>\n",
       "\t\t<dd>43.5</dd>\n",
       "\t<dt>9%</dt>\n",
       "\t\t<dd>49.18</dd>\n",
       "</dl>\n"
      ],
      "text/latex": [
       "\\begin{description*}\n",
       "\\item[5\\textbackslash{}\\%] 43.5\n",
       "\\item[9\\textbackslash{}\\%] 49.18\n",
       "\\end{description*}\n"
      ],
      "text/markdown": [
       "5%\n",
       ":   43.59%\n",
       ":   49.18\n",
       "\n"
      ],
      "text/plain": [
       "   5%    9% \n",
       "43.50 49.18 "
      ]
     },
     "metadata": {},
     "output_type": "display_data"
    },
    {
     "data": {
      "text/html": [
       "66.8529411764706"
      ],
      "text/latex": [
       "66.8529411764706"
      ],
      "text/markdown": [
       "66.8529411764706"
      ],
      "text/plain": [
       "[1] 66.85294"
      ]
     },
     "metadata": {},
     "output_type": "display_data"
    },
    {
     "data": {
      "text/html": [
       "68.5"
      ],
      "text/latex": [
       "68.5"
      ],
      "text/markdown": [
       "68.5"
      ],
      "text/plain": [
       "[1] 68.5"
      ]
     },
     "metadata": {},
     "output_type": "display_data"
    },
    {
     "data": {
      "text/html": [
       "<dl class=dl-horizontal>\n",
       "\t<dt>0%</dt>\n",
       "\t\t<dd>40</dd>\n",
       "\t<dt>25%</dt>\n",
       "\t\t<dd>60.25</dd>\n",
       "\t<dt>50%</dt>\n",
       "\t\t<dd>68.5</dd>\n",
       "\t<dt>75%</dt>\n",
       "\t\t<dd>75</dd>\n",
       "\t<dt>100%</dt>\n",
       "\t\t<dd>84</dd>\n",
       "</dl>\n"
      ],
      "text/latex": [
       "\\begin{description*}\n",
       "\\item[0\\textbackslash{}\\%] 40\n",
       "\\item[25\\textbackslash{}\\%] 60.25\n",
       "\\item[50\\textbackslash{}\\%] 68.5\n",
       "\\item[75\\textbackslash{}\\%] 75\n",
       "\\item[100\\textbackslash{}\\%] 84\n",
       "\\end{description*}\n"
      ],
      "text/markdown": [
       "0%\n",
       ":   4025%\n",
       ":   60.2550%\n",
       ":   68.575%\n",
       ":   75100%\n",
       ":   84\n",
       "\n"
      ],
      "text/plain": [
       "   0%   25%   50%   75%  100% \n",
       "40.00 60.25 68.50 75.00 84.00 "
      ]
     },
     "metadata": {},
     "output_type": "display_data"
    },
    {
     "data": {
      "text/html": [
       "<dl class=dl-horizontal>\n",
       "\t<dt>5%</dt>\n",
       "\t\t<dd>47.6</dd>\n",
       "\t<dt>9%</dt>\n",
       "\t\t<dd>51.91</dd>\n",
       "</dl>\n"
      ],
      "text/latex": [
       "\\begin{description*}\n",
       "\\item[5\\textbackslash{}\\%] 47.6\n",
       "\\item[9\\textbackslash{}\\%] 51.91\n",
       "\\end{description*}\n"
      ],
      "text/markdown": [
       "5%\n",
       ":   47.69%\n",
       ":   51.91\n",
       "\n"
      ],
      "text/plain": [
       "   5%    9% \n",
       "47.60 51.91 "
      ]
     },
     "metadata": {},
     "output_type": "display_data"
    }
   ],
   "source": [
    "#1-23\n",
    "#Los siguientes datos son las temperaturas de unión de los O-rings (en grados F), en cada prueba de lanzamiento o de un \n",
    "#lanzamiento real, del motor del cohete del transbordador espacial.\n",
    "#a) Calcule la media y la mediana muestrales\n",
    "#b) Encuentre los cuartiles inferior y superior de la temperatura.\n",
    "#c) Encuentre los percentiles quinto y noveno de la temperatura.\n",
    "#d) Elimine la observación más pequeña (31 F) y vuelva a calcular lo que se pide en los incisos a), b) y c). Explique\n",
    "#sus hallazgos. ¿Cuánto difieren las demás temperaturas de este último valor?\n",
    "\n",
    "datos123=c(84,49,61,40,83,67,45,66,70,69,80,58,68,60,67,72,73,70,57,63,70,78,52,67,53,75,61,70,81,76,79,75,76,58,31)\n",
    "mean(datos123)                   #Media\n",
    "median(datos123)                 #Mediana\n",
    "quantile(datos123)               #Cuartiles\n",
    "quantile(datos123,c(0.05,0.09))  #Percentiles\n",
    "\n",
    "datos123d=c(84,49,61,40,83,67,45,66,70,69,80,58,68,60,67,72,73,70,57,63,70,78,52,67,53,75,61,70,81,76,79,75,76,58)\n",
    "mean(datos123d)                   #Media\n",
    "median(datos123d)                 #Mediana\n",
    "quantile(datos123d)               #Cuartiles\n",
    "quantile(datos123d,c(0.05,0.09))  #Percentiles"
   ]
  },
  {
   "cell_type": "code",
   "execution_count": 13,
   "metadata": {},
   "outputs": [
    {
     "data": {
      "text/html": [
       "53"
      ],
      "text/latex": [
       "53"
      ],
      "text/markdown": [
       "53"
      ],
      "text/plain": [
       "[1] 53"
      ]
     },
     "metadata": {},
     "output_type": "display_data"
    },
    {
     "data": {
      "text/html": [
       "152.146218487395"
      ],
      "text/latex": [
       "152.146218487395"
      ],
      "text/markdown": [
       "152.146218487395"
      ],
      "text/plain": [
       "[1] 152.1462"
      ]
     },
     "metadata": {},
     "output_type": "display_data"
    },
    {
     "data": {
      "text/html": [
       "12.3347565232312"
      ],
      "text/latex": [
       "12.3347565232312"
      ],
      "text/markdown": [
       "12.3347565232312"
      ],
      "text/plain": [
       "[1] 12.33476"
      ]
     },
     "metadata": {},
     "output_type": "display_data"
    },
    {
     "data": {
      "image/png": "[encoded data removed]",
      "text/plain": [
       "plot without title"
      ]
     },
     "metadata": {},
     "output_type": "display_data"
    }
   ],
   "source": [
    "#1-34\n",
    "#Considere los datos sobre los O-ring del transbordador espacial, dados en el ejercicio 1-23.\n",
    "#a) Calcule el recorrido muestral.\n",
    "#b) Calcule la varianza muestral y la desviación estandar muestral.\n",
    "#c) Construya un diagrama de caja y discuta sobre la forma de la distribución y la posible presencia de valores atípicos.\n",
    "\n",
    "rango = max(datos123) - min(datos123)   #Rango.\n",
    "rango\n",
    "var(datos123)                            #Varianza muestral.\n",
    "sqrt(var(datos123))                      #Desviación estándar muestral\n",
    "\n",
    "#Para el diagrama de caja\n",
    "boxplot(datos123, xlab=\"\", ylab=\"Temperatura\")  #Diagrama de cajas"
   ]
  },
  {
   "cell_type": "code",
   "execution_count": 15,
   "metadata": {},
   "outputs": [
    {
     "data": {
      "text/html": [
       "1.39"
      ],
      "text/latex": [
       "1.39"
      ],
      "text/markdown": [
       "1.39"
      ],
      "text/plain": [
       "[1] 1.39"
      ]
     },
     "metadata": {},
     "output_type": "display_data"
    },
    {
     "data": {
      "text/html": [
       "0.283483928571429"
      ],
      "text/latex": [
       "0.283483928571429"
      ],
      "text/markdown": [
       "0.283483928571429"
      ],
      "text/plain": [
       "[1] 0.2834839"
      ]
     },
     "metadata": {},
     "output_type": "display_data"
    },
    {
     "data": {
      "text/html": [
       "0.532432088224807"
      ],
      "text/latex": [
       "0.532432088224807"
      ],
      "text/markdown": [
       "0.532432088224807"
      ],
      "text/plain": [
       "[1] 0.5324321"
      ]
     },
     "metadata": {},
     "output_type": "display_data"
    },
    {
     "data": {
      "image/png": "[encoded data removed]",
      "text/plain": [
       "plot without title"
      ]
     },
     "metadata": {},
     "output_type": "display_data"
    }
   ],
   "source": [
    "#1-35\n",
    "#Un fabricante de gaslina investiga el \"tiemmpo de arranque en frío\" del motor de un automóvil. \n",
    "#Para un vehículo de prueba tiene los siguientes tiempos (en segundos):\n",
    "\n",
    "datos135 = c(1.76,1.92,2.62,2.35,3.09,3.15,2.53,1.91)\n",
    "\n",
    "#a) Calcule el recorrido muestral.\n",
    "#b) Calcule la varianza muestral y la desviación estandar muestral.\n",
    "#c) Construya un diagrama de caja para los datos.\n",
    "\n",
    "rango = max(datos135) - min(datos135)   #Rango.\n",
    "rango\n",
    "var(datos135)                            #Varianza muestral.\n",
    "sqrt(var(datos135))                      #Desviación estándar muestral\n",
    "\n",
    "#Para el diagrama de caja\n",
    "boxplot(datos135, xlab=\"\", ylab=\"Tiempo /s\")  #Diagrama de caja"
   ]
  },
  {
   "cell_type": "code",
   "execution_count": 20,
   "metadata": {},
   "outputs": [
    {
     "data": {
      "text/html": [
       "3.2"
      ],
      "text/latex": [
       "3.2"
      ],
      "text/markdown": [
       "3.2"
      ],
      "text/plain": [
       "[1] 3.2"
      ]
     },
     "metadata": {},
     "output_type": "display_data"
    },
    {
     "data": {
      "text/html": [
       "0.866315789473684"
      ],
      "text/latex": [
       "0.866315789473684"
      ],
      "text/markdown": [
       "0.866315789473684"
      ],
      "text/plain": [
       "[1] 0.8663158"
      ]
     },
     "metadata": {},
     "output_type": "display_data"
    },
    {
     "data": {
      "text/html": [
       "0.930760865890742"
      ],
      "text/latex": [
       "0.930760865890742"
      ],
      "text/markdown": [
       "0.930760865890742"
      ],
      "text/plain": [
       "[1] 0.9307609"
      ]
     },
     "metadata": {},
     "output_type": "display_data"
    },
    {
     "data": {
      "text/html": [
       "3.2"
      ],
      "text/latex": [
       "3.2"
      ],
      "text/markdown": [
       "3.2"
      ],
      "text/plain": [
       "[1] 3.2"
      ]
     },
     "metadata": {},
     "output_type": "display_data"
    },
    {
     "data": {
      "text/html": [
       "0.866315789473684"
      ],
      "text/latex": [
       "0.866315789473684"
      ],
      "text/markdown": [
       "0.866315789473684"
      ],
      "text/plain": [
       "[1] 0.8663158"
      ]
     },
     "metadata": {},
     "output_type": "display_data"
    },
    {
     "data": {
      "text/html": [
       "0.930760865890742"
      ],
      "text/latex": [
       "0.930760865890742"
      ],
      "text/markdown": [
       "0.930760865890742"
      ],
      "text/plain": [
       "[1] 0.9307609"
      ]
     },
     "metadata": {},
     "output_type": "display_data"
    }
   ],
   "source": [
    "#1-37\n",
    "#Considere los datos del proceso químico que aparecen en el ejercicio 1-36. Calcule el nuevo rango muestral, la varianza\n",
    "#muestral y la desviación estándar muestral, pero antes reste 1.0 a cada observación. Compare sus resultados con los \n",
    "#obtenidos en el ejercicio 1-36. ¿Existe algo \"especial\" con respecto a la constante 1.0, o es posible seleccionar de \n",
    "#manera arbitraria otra constante que produzca los mismos resultados?\n",
    "\n",
    "#Datos originales\n",
    "datos136 = c(4.2,4.7,4.7,5.0,3.8,3.6,3.0,5.1,3.1,3.8,4.8,4.0,5.2,4.3,2.8,2.0,2.8,3.3,4.8,5.0)\n",
    "rango = max(datos136) - min(datos136)   #Rango.\n",
    "rango\n",
    "var(datos136)                            #Varianza muestral.\n",
    "sqrt(var(datos136))                      #Desviación estándar muestral\n",
    "\n",
    "#Restándoles 1.0\n",
    "datos136n = c(3.2-1, 3.7-1, 3.7-1, 4.0-1, 2.8-1, 2.6-1, 2.0-1, 4.1-1, 2.1-1, 2.8-1, 3.8-1, 3.0-1, 4.2-1, 3.3-1, 1.8-1, 1.0-1, 1.8-1, 2.3-d, 3.8-d, 4.0-d)\n",
    "      \n",
    "rango = max(datos136n) - min(datos136n)   #Rango.\n",
    "rango\n",
    "var(datos136n)                            #Varianza muestral.\n",
    "sqrt(var(datos136n))                      #Desviación estándar muestral"
   ]
  },
  {
   "cell_type": "code",
   "execution_count": null,
   "metadata": {},
   "outputs": [],
   "source": []
  }
 ],
 "metadata": {
  "kernelspec": {
   "display_name": "R",
   "language": "R",
   "name": "ir"
  },
  "language_info": {
   "codemirror_mode": "r",
   "file_extension": ".r",
   "mimetype": "text/x-r-source",
   "name": "R",
   "pygments_lexer": "r",
   "version": "3.5.1"
  }
 },
 "nbformat": 4,
 "nbformat_minor": 2
}
